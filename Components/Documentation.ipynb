{
 "cells": [
  {
   "cell_type": "markdown",
   "metadata": {},
   "source": [
    "## Componente - Matriz_Analysis\n",
    "\n",
    "### Interface IMatriz_Analysis\n",
    "Interface que possui metodos de analise para uma matriz. \n",
    "\n",
    "|Metodo |Objetivo| \n",
    "|:-----: |:-----: |\n",
    "|public boolean matrixCompare | Comparar duas matrizes, retorna true ou false de acordo |\n",
    "|public int mostFalse | Retorna o index da coluna com maior numero de False |\n",
    "|public int mostTrue | Retorna o Index da coluna com maior numero de True |\n",
    "|public Int[][] count| Retorna uma matriz de 2*N_Colunas, onde cada linha contém [n_True, n_False], ou seja mostra a frequência de ocorrência das doenças.|"
   ]
  },
  {
   "cell_type": "markdown",
   "metadata": {},
   "source": [
    "## Componente - MatrixModifiers\n",
    "\n",
    "### Interface IMatrixModifiers\n",
    "Interface com métodos para fazer modificacoes em uma matriz. \n",
    "\n",
    "| Metodo |Objetivo |\n",
    "| :---: | :---: |\n",
    "|public void matrixReplace | Substituir todas as ocorrencias da String \"original\" da matriz por String \"novo\", exemplo transformar uma matriz de 1 e 0 para uma de t e f|\n",
    "|public String[][] matrixClean | Retirar linhas iguais da matriz|\n",
    "|public String[][] deleteCollum| Deleta uma coluna da matriz|\n",
    "|public String[][] deleteLine| Deleta uma linha da matriz|"
   ]
  },
  {
   "cell_type": "markdown",
   "metadata": {},
   "source": [
    "## Componente  Date_Analysis\n",
    "\n",
    "### Interface IDate_Analysis\n",
    "Tem como objetivo mapear a evolução no numero de casos de cada doença com o passar do tempo\n",
    "\n",
    "| Metodo |Objetivo |\n",
    "| :---: | :---: |\n",
    "|public void Armazena| Armazenar as informações passadas em uma matriz em um csv|\n",
    "|public void Request_date_table | Ler um csv com as informações em relação a data, retorna a matriz. |\n",
    "|public void Plot_date_graph| Plotar um gráfico de acordo com a tabela obtida|"
   ]
  },
  {
   "cell_type": "markdown",
   "metadata": {},
   "source": [
    "Exemplos de algumas funções podem ser encontradas em:\n",
    "https://docs.google.com/document/d/1Ptz5frft64fiJGiD2sJBOZBzoqR5bIWpDlgNo6oAt2g/edit?usp=sharing"
   ]
  },
  {
   "cell_type": "code",
   "execution_count": null,
   "metadata": {},
   "outputs": [],
   "source": []
  }
 ],
 "metadata": {
  "kernelspec": {
   "display_name": "C",
   "language": "c",
   "name": "c"
  },
  "language_info": {
   "file_extension": ".c",
   "mimetype": "text/plain",
   "name": "c"
  }
 },
 "nbformat": 4,
 "nbformat_minor": 2
}
